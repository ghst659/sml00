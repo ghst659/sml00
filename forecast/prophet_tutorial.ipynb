{
 "cells": [
  {
   "cell_type": "markdown",
   "id": "778a1bc4-c49c-472d-9d96-6c860e65145b",
   "metadata": {},
   "source": [
    "# Time Series Forecasting with Prophet\n",
    "\n",
    "Reference: https://www.kaggle.com/code/prashant111/tutorial-time-series-forecasting-with-prophet"
   ]
  },
  {
   "cell_type": "code",
   "execution_count": null,
   "id": "f6c03c7b-43d6-4212-985e-e7f610a897f4",
   "metadata": {},
   "outputs": [],
   "source": [
    "%matplotlib inline\n",
    "\n",
    "import numpy as np\n",
    "import pandas as pd\n",
    "import matplotlib.pyplot as plt\n",
    "\n",
    "from prophet import Prophet\n",
    "from prophet.plot import plot_plotly"
   ]
  },
  {
   "cell_type": "code",
   "execution_count": null,
   "id": "30acd0d7-de3e-4d2f-8867-0f187dacb256",
   "metadata": {},
   "outputs": [],
   "source": [
    "import iolib"
   ]
  },
  {
   "cell_type": "code",
   "execution_count": null,
   "id": "5b0a3073-43cd-4e10-a81a-42f3c3cae4ce",
   "metadata": {},
   "outputs": [],
   "source": [
    "goog = iolib.read_nasdaq(\"data/nasdaq/GOOG.csv\")"
   ]
  },
  {
   "cell_type": "code",
   "execution_count": null,
   "id": "77b5a4f0-ad21-4f68-90f8-439ad1f9beb9",
   "metadata": {},
   "outputs": [],
   "source": [
    "goog.info()"
   ]
  },
  {
   "cell_type": "code",
   "execution_count": null,
   "id": "d927d46e-03e9-4514-9e0a-51b502191b2c",
   "metadata": {},
   "outputs": [],
   "source": [
    "# Prophet will need a 2-column dataframe, in this case, the date, and the closing price.\n",
    "# The column headings must be \"ds\" and \"y\"\n",
    "gclose = goog[[\"Date\", \"Close/Last\"]].copy()\n",
    "gclose.rename(columns={\"Date\": \"ds\", \"Close/Last\": \"y\"}, inplace=True)\n",
    "# Plot the data.\n",
    "ax = gclose.set_index(\"ds\").plot()\n",
    "ax.set_ylabel(\"Close $\")\n",
    "ax.set_xlabel(\"Date\")\n",
    "plt.show()"
   ]
  },
  {
   "cell_type": "code",
   "execution_count": null,
   "id": "2b187639-b8ca-43a5-8ccd-d0f530c129f6",
   "metadata": {},
   "outputs": [],
   "source": [
    "# create the model, with an uncertainty interval of 90%\n",
    "my_model = Prophet(interval_width=0.9)"
   ]
  },
  {
   "cell_type": "code",
   "execution_count": null,
   "id": "d8dbb5c7-71bb-4b96-a360-d59d1176953f",
   "metadata": {},
   "outputs": [],
   "source": [
    "# fit the model with the data.\n",
    "my_model.fit(gclose)"
   ]
  },
  {
   "cell_type": "code",
   "execution_count": null,
   "id": "64f42cab-d3e6-49f2-acde-15622f4f8f12",
   "metadata": {},
   "outputs": [],
   "source": [
    "future_dates = my_model.make_future_dataframe(periods=36, freq=\"MS\")\n",
    "future_dates.head()"
   ]
  },
  {
   "cell_type": "code",
   "execution_count": null,
   "id": "ecb87554-b926-464a-bdce-40c955fd6bc9",
   "metadata": {},
   "outputs": [],
   "source": [
    "forecast = my_model.predict(future_dates)\n",
    "forecast[[\"ds\", \"yhat\", \"yhat_lower\", \"yhat_upper\"]].head()"
   ]
  },
  {
   "cell_type": "code",
   "execution_count": null,
   "id": "036fef5f-16f5-42c8-9ccd-82c4f57492f8",
   "metadata": {},
   "outputs": [],
   "source": [
    "my_model.plot(forecast, uncertainty=True)"
   ]
  },
  {
   "cell_type": "code",
   "execution_count": null,
   "id": "d71ae844-2c60-4881-b336-a785d815c84d",
   "metadata": {},
   "outputs": [],
   "source": [
    "my_model.plot_components(forecast)"
   ]
  },
  {
   "cell_type": "code",
   "execution_count": null,
   "id": "6fce91f4-a6f4-4a1f-9647-a51112b0061f",
   "metadata": {},
   "outputs": [],
   "source": []
  }
 ],
 "metadata": {
  "kernelspec": {
   "display_name": "Python 3 (ipykernel)",
   "language": "python",
   "name": "python3"
  },
  "language_info": {
   "codemirror_mode": {
    "name": "ipython",
    "version": 3
   },
   "file_extension": ".py",
   "mimetype": "text/x-python",
   "name": "python",
   "nbconvert_exporter": "python",
   "pygments_lexer": "ipython3",
   "version": "3.12.6"
  }
 },
 "nbformat": 4,
 "nbformat_minor": 5
}
