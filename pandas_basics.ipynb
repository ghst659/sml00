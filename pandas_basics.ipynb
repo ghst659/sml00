{
 "cells": [
  {
   "cell_type": "markdown",
   "id": "7eea038e-43f0-49a1-9797-de4e43bc7e58",
   "metadata": {},
   "source": [
    "# Pandas Training\n",
    "\n",
    "User guide: https://pandas.pydata.org/docs/user_guide/index.html"
   ]
  },
  {
   "cell_type": "code",
   "execution_count": null,
   "id": "0d7cbb59-ba85-4059-928f-ad3b8f8900c8",
   "metadata": {},
   "outputs": [],
   "source": [
    "%matplotlib inline\n",
    "import matplotlib.pyplot as plt\n",
    "import numpy as np\n",
    "import pandas as pd\n",
    "import math\n",
    "from PIL import Image\n",
    "from PIL import ImageMath"
   ]
  },
  {
   "cell_type": "markdown",
   "id": "9ec33635-89a7-4d1b-b328-446c4c7af273",
   "metadata": {},
   "source": [
    "## `pandas.Series`\n",
    "\n",
    "* one-dimensional labelled array\n",
    "* `index` array is labels for the elements.\n",
    "\n",
    "```\n",
    "s = pd.Series(data, index=index)\n",
    "```"
   ]
  },
  {
   "cell_type": "code",
   "execution_count": null,
   "id": "ffa45cc2-2ec3-442d-94cb-bb7fa695c428",
   "metadata": {},
   "outputs": [],
   "source": [
    "x = pd.Series(np.arange(20), name=\"x values\", index=[f\"x={t}\" for t in range(20)])  # from numpy ndarray\n",
    "# print(x)"
   ]
  },
  {
   "cell_type": "code",
   "execution_count": null,
   "id": "1c142cb0-d08c-448d-b30d-671eac80451a",
   "metadata": {},
   "outputs": [],
   "source": [
    "y = np.sin(math.pi * x / 10)  # vectorised operation, using np.sin() vectorised operators."
   ]
  },
  {
   "cell_type": "markdown",
   "id": "ffdc41c9-8220-4954-a6e3-4bc326365152",
   "metadata": {},
   "source": [
    "## `pandas.DataFrame`\n",
    "\n",
    "Reference https://pandas.pydata.org/docs/user_guide/dsintro.html#dataframe"
   ]
  },
  {
   "cell_type": "code",
   "execution_count": null,
   "id": "d39602fb-2bad-4c32-b258-ee5d8faf93ad",
   "metadata": {},
   "outputs": [],
   "source": [
    "xy = pd.DataFrame({\n",
    "    \"x\": x,\n",
    "    \"y\": y,\n",
    "})\n",
    "print(xy)"
   ]
  },
  {
   "cell_type": "code",
   "execution_count": null,
   "id": "800eeab5-71c1-45fa-a28e-975aeeaf1eb5",
   "metadata": {},
   "outputs": [],
   "source": [
    "xy[\"y10\"] = xy[\"y\"] * 10\n",
    "print(xy)"
   ]
  },
  {
   "cell_type": "code",
   "execution_count": null,
   "id": "18f14348-3a29-4ad6-9144-845c6c070511",
   "metadata": {},
   "outputs": [],
   "source": [
    "xy.plot(\"x\", \"y10\")"
   ]
  }
 ],
 "metadata": {
  "kernelspec": {
   "display_name": "Python 3 (ipykernel)",
   "language": "python",
   "name": "python3"
  },
  "language_info": {
   "codemirror_mode": {
    "name": "ipython",
    "version": 3
   },
   "file_extension": ".py",
   "mimetype": "text/x-python",
   "name": "python",
   "nbconvert_exporter": "python",
   "pygments_lexer": "ipython3",
   "version": "3.12.6"
  }
 },
 "nbformat": 4,
 "nbformat_minor": 5
}
