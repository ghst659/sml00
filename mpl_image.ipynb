{
 "cells": [
  {
   "cell_type": "markdown",
   "id": "4137a037-1085-4de7-bec1-9429d45758d7",
   "metadata": {},
   "source": [
    "# Matplotlib Image Tutorial\n",
    "\n",
    "A modified copy of https://matplotlib.org/stable/tutorials/images.html#sphx-glr-tutorials-images-py"
   ]
  },
  {
   "cell_type": "code",
   "execution_count": null,
   "id": "0db54aff-955d-4a86-a352-f1520ae39860",
   "metadata": {},
   "outputs": [],
   "source": [
    "In [1]: %matplotlib inline"
   ]
  },
  {
   "cell_type": "markdown",
   "id": "c9bb68b0-df07-4662-bd42-c0d2eb324372",
   "metadata": {},
   "source": [
    "Use the implicity plotting interface, `pyplot`, which has **global state**."
   ]
  },
  {
   "cell_type": "code",
   "execution_count": null,
   "id": "3c1fae94-3b1a-4b94-a127-e5c8ae10cbc1",
   "metadata": {},
   "outputs": [],
   "source": [
    "from PIL import Image\n",
    "\n",
    "import matplotlib.pyplot as plt\n",
    "import numpy as np\n",
    "import urllib.request\n",
    "import io"
   ]
  },
  {
   "cell_type": "code",
   "execution_count": null,
   "id": "0217bd23-80e1-4dfe-a8eb-b65dc7ed3e40",
   "metadata": {},
   "outputs": [],
   "source": [
    "# Open the image\n",
    "IMAGE = \"https://upload.wikimedia.org/wikipedia/commons/d/d7/Red_rose_with_black_background.jpg\"\n",
    "with urllib.request.urlopen(IMAGE) as http_response:\n",
    "    image_bytes = http_response.read()\n",
    "    image_io = io.BytesIO(image_bytes)\n",
    "    image_pil = Image.open(image_io)\n",
    "    img = np.asarray(image_pil)\n",
    "print(repr(img))"
   ]
  },
  {
   "cell_type": "markdown",
   "id": "7432ae6a-9491-4416-98e5-d329f1981573",
   "metadata": {},
   "source": [
    "## Plot numpy array as an image\n",
    "Use the MatPlotLib `plt.imshow()` function."
   ]
  },
  {
   "cell_type": "code",
   "execution_count": null,
   "id": "15f828a1-2cb3-4196-87c4-d177ebccb288",
   "metadata": {},
   "outputs": [],
   "source": [
    "imgplot = plt.imshow(img)"
   ]
  },
  {
   "cell_type": "markdown",
   "id": "95d61cdd-c178-4321-9326-d4daef49ab32",
   "metadata": {},
   "source": [
    "### Apply pseudocolour scheme to image plot"
   ]
  },
  {
   "cell_type": "code",
   "execution_count": null,
   "id": "477c32de-399c-4007-a826-7bdd87f5d932",
   "metadata": {},
   "outputs": [],
   "source": [
    "lum_img = img[:, :, 0]\n",
    "plt.imshow(lum_img)"
   ]
  },
  {
   "cell_type": "code",
   "execution_count": null,
   "id": "0317a293-8987-4317-9da2-1d1610ea6f05",
   "metadata": {},
   "outputs": [],
   "source": [
    "plt.imshow(lum_img, cmap=\"hot\")"
   ]
  },
  {
   "cell_type": "code",
   "execution_count": null,
   "id": "20d1474c-8157-4ab5-918e-68a06004d17b",
   "metadata": {},
   "outputs": [],
   "source": []
  }
 ],
 "metadata": {
  "kernelspec": {
   "display_name": "Python 3 (ipykernel)",
   "language": "python",
   "name": "python3"
  },
  "language_info": {
   "codemirror_mode": {
    "name": "ipython",
    "version": 3
   },
   "file_extension": ".py",
   "mimetype": "text/x-python",
   "name": "python",
   "nbconvert_exporter": "python",
   "pygments_lexer": "ipython3",
   "version": "3.12.6"
  }
 },
 "nbformat": 4,
 "nbformat_minor": 5
}
