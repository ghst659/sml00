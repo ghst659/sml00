{
 "cells": [
  {
   "cell_type": "markdown",
   "id": "5c3e1045-ef45-46b3-aea8-1c10d3a10a9a",
   "metadata": {},
   "source": [
    "# Data Plotting\n",
    "\n",
    "Based on the tutorial https://matplotlib.org/stable/tutorials/pyplot.html#sphx-glr-tutorials-pyplot-py"
   ]
  },
  {
   "cell_type": "code",
   "execution_count": null,
   "id": "d7e4ccab-ebae-470a-957a-f1d4222caf5d",
   "metadata": {},
   "outputs": [],
   "source": [
    "# Magic macro to make plots show up in the notebook.\n",
    "%matplotlib inline"
   ]
  },
  {
   "cell_type": "code",
   "execution_count": null,
   "id": "89333b12-4c13-4771-aff2-af7f92aef6ab",
   "metadata": {},
   "outputs": [],
   "source": [
    "import matplotlib.pyplot as plt\n",
    "import math\n",
    "import numpy as np"
   ]
  },
  {
   "cell_type": "markdown",
   "id": "ffc54b47-8107-43d6-a403-934e0db5d73b",
   "metadata": {},
   "source": [
    "Single data column of y values, assumes x values."
   ]
  },
  {
   "cell_type": "code",
   "execution_count": null,
   "id": "f0afca2b-ed27-47d2-b1e3-dc62db973a80",
   "metadata": {},
   "outputs": [],
   "source": [
    "y = [1, 4, 9, 16, 25]\n",
    "plt.plot(y)  # x values not given, pyplot assumes [0, 1, 2, 3, 4]\n",
    "plt.ylabel('squares')\n",
    "# display the plot\n",
    "plt.show()"
   ]
  },
  {
   "cell_type": "markdown",
   "id": "ccc0623a-d4a3-47f9-80b0-d3b89e06ac83",
   "metadata": {},
   "source": [
    "## Format Control\n",
    "\n",
    "Give x values explicitly.\n",
    "* if given, x values come first\n",
    "* 3rd arg is plot style\n",
    "* for multiple plots, give a tuple for each.\n",
    "* see [`plot` documentation](https://matplotlib.org/stable/api/_as_gen/matplotlib.pyplot.plot.html#matplotlib.pyplot.plot)"
   ]
  },
  {
   "cell_type": "code",
   "execution_count": null,
   "id": "ef35f8cb-fbc6-436f-a5a5-b1991236c9da",
   "metadata": {},
   "outputs": [],
   "source": [
    "x = [math.pi * 0.02 * t for t in range(100)]\n",
    "y = [math.cosh(t) for t in x]\n",
    "z = [math.sin(t) * 100 for t in x]\n",
    "plt.plot(x, y, 'ro', x, z, 'g.')  # if given, x values come first.  3rd arg is plot style.  For multiple plots, give tuple for each.\n",
    "plt.axis( (0, 7, -200, 200) )  # Specify the viewport of the Axes with a tuple/list.\n",
    "plt.show()"
   ]
  },
  {
   "cell_type": "markdown",
   "id": "c5b23d7d-3c2b-4062-a409-2142c7780f4c",
   "metadata": {},
   "source": [
    "## Data from `numpy` Arrays\n",
    "\n",
    "Actually all given sequences are internally converted to `numpy` arrays."
   ]
  },
  {
   "cell_type": "code",
   "execution_count": null,
   "id": "4d686750-54ce-44ff-baa8-91f88879f06c",
   "metadata": {},
   "outputs": [],
   "source": [
    "# evenly sampled time at 200ms intervals\n",
    "t = np.arange(0., 5., 0.2)\n",
    "\n",
    "# red dashes, blue squares and green triangles\n",
    "plt.plot(t, t, 'r--', t, t**2, 'bs', t, t**3, 'g^')\n",
    "plt.show()"
   ]
  },
  {
   "cell_type": "markdown",
   "id": "219e16fd-9da8-4a52-804d-94fb32b1f683",
   "metadata": {},
   "source": [
    "# Plotting with Keyword Strings\n",
    "\n",
    "Sometimes data is in a format allowing access particular variables with strings. For example, with [`numpy` structured arrays](https://numpy.org/doc/stable/user/basics.rec.html#structured-arrays) or [`pandas.DataFrame`](https://pandas.pydata.org/pandas-docs/stable/reference/api/pandas.DataFrame.html#pandas.DataFrame).\n",
    "\n",
    "Matplotlib allows you to provide such an object with the data keyword argument. If provided, then you may generate plots with the strings corresponding to these variables."
   ]
  },
  {
   "cell_type": "code",
   "execution_count": null,
   "id": "76642bfe-477b-4a08-a272-d5d3f499ef90",
   "metadata": {},
   "outputs": [],
   "source": [
    "# Define a table with columns a, b, c, d\n",
    "data = {'a': np.arange(50),\n",
    "        'c': np.random.randint(0, 50, 50),\n",
    "        'd': np.random.randn(50)}\n",
    "data['b'] = data['a'] + 10 * np.random.randn(50)\n",
    "data['d'] = np.abs(data['d']) * 100\n",
    "# Create a scatter plot, referencing column names, and with the data= named arg.\n",
    "plt.scatter('a', 'b', c='c', s='d', data=data)\n",
    "plt.xlabel('entry a')\n",
    "plt.ylabel('entry b')\n",
    "plt.show()"
   ]
  },
  {
   "cell_type": "markdown",
   "id": "12bc44ff-4fdd-42dc-9e5f-77c1ad5aa3aa",
   "metadata": {},
   "source": [
    "## Categorical Variables\n",
    "\n",
    "* Use [`plt.figure`](https://matplotlib.org/stable/api/_as_gen/matplotlib.pyplot.figure.html#matplotlib.pyplot.figure) to create a new [`Figure`](https://matplotlib.org/stable/api/_as_gen/matplotlib.figure.Figure.html#matplotlib.figure.Figure).\n",
    "* `figsize` argument is the dimensions (width, height) in inches.\n",
    "* Use [`plt.subplot`](https://matplotlib.org/stable/api/_as_gen/matplotlib.pyplot.subplot.html#matplotlib.pyplot.subplot) to add an Axes to the current figure.\n",
    "* 3-digit integer becomes the (nrows, ncols, index) tuple, ie. 132 = grid of 1 row, 3 cols, 2nd position.\n",
    "* Bar chart: [`plt.bar`](https://matplotlib.org/stable/api/_as_gen/matplotlib.pyplot.bar.html#matplotlib.pyplot.bar)\n",
    "* Scatter plot: [`plt.scatter`](https://matplotlib.org/stable/api/_as_gen/matplotlib.pyplot.scatter.html#matplotlib.pyplot.scatter)\n",
    "* XY plot: [`plt.plot`](https://matplotlib.org/stable/api/_as_gen/matplotlib.pyplot.plot.html#matplotlib.pyplot.plot)"
   ]
  },
  {
   "cell_type": "code",
   "execution_count": null,
   "id": "0ce55630-c6cb-44ec-ae86-dcdb9356b2fb",
   "metadata": {},
   "outputs": [],
   "source": [
    "names = ['group_a', 'group_b', 'group_c']\n",
    "values = [1, 10, 100]\n",
    "# figure doc https://matplotlib.org/stable/api/_as_gen/matplotlib.pyplot.figure.html\n",
    "plt.figure(figsize=(12, 3))  # Width, height in inches\n",
    "# subplot doc https://matplotlib.org/stable/api/_as_gen/matplotlib.pyplot.subplot.html\n",
    "plt.subplot(131)  # same as subplot(1, 3, 1)\n",
    "plt.bar(names, values)\n",
    "plt.subplot(132)\n",
    "plt.scatter(names, values)\n",
    "plt.subplot(133)\n",
    "plt.plot(names, values)\n",
    "plt.suptitle('Categorical Plotting')\n",
    "plt.show()"
   ]
  },
  {
   "cell_type": "markdown",
   "id": "5d2f5a85-beb0-4f1c-a257-56439fdfa86c",
   "metadata": {},
   "source": [
    "## Multiple Figures and Axes\n",
    "\n",
    "* concept of the current figure and the current [`Axes`](https://matplotlib.org/stable/api/_as_gen/matplotlib.axes.Axes.html#matplotlib.axes.Axes).\n",
    "* plotting functions apply to the current Axes.\n",
    "* [`gca`](https://matplotlib.org/stable/api/_as_gen/matplotlib.pyplot.gca.html#matplotlib.pyplot.gca) returns the current [`matplotlib.axes.Axes`](https://matplotlib.org/stable/api/_as_gen/matplotlib.axes.Axes.html#matplotlib.axes.Axes)\n",
    "* [`gcf`](https://matplotlib.org/stable/api/_as_gen/matplotlib.pyplot.gcf.html#matplotlib.pyplot.gcf) returns the current [`matplotlib.figure.Figure`](https://matplotlib.org/stable/api/_as_gen/matplotlib.figure.Figure.html#matplotlib.figure.Figure).\n",
    "\n",
    "Creating two subplots:"
   ]
  },
  {
   "cell_type": "code",
   "execution_count": null,
   "id": "3091ab5b-50e5-448a-8d2f-6b0b7497268b",
   "metadata": {},
   "outputs": [],
   "source": [
    "def f(t):\n",
    "    return np.exp(-t) * np.cos(2*np.pi*t)\n",
    "\n",
    "t1 = np.arange(0.0, 5.0, 0.1)\n",
    "t2 = np.arange(0.0, 10.0, 0.02)\n",
    "\n",
    "plt.figure()\n",
    "\n",
    "plt.subplot(211)\n",
    "plt.plot(t1, f(t1), 'bo', t2, f(t2), 'k')\n",
    "plt.grid(True)\n",
    "\n",
    "plt.subplot(212)\n",
    "plt.plot(t2, np.cos(2*np.pi*t2), 'r--')\n",
    "plt.grid(True)\n",
    "\n",
    "plt.show()"
   ]
  },
  {
   "cell_type": "markdown",
   "id": "67cfd507-3b97-4c61-acc5-855ac468018a",
   "metadata": {},
   "source": []
  }
 ],
 "metadata": {
  "kernelspec": {
   "display_name": "Python 3 (ipykernel)",
   "language": "python",
   "name": "python3"
  },
  "language_info": {
   "codemirror_mode": {
    "name": "ipython",
    "version": 3
   },
   "file_extension": ".py",
   "mimetype": "text/x-python",
   "name": "python",
   "nbconvert_exporter": "python",
   "pygments_lexer": "ipython3",
   "version": "3.12.6"
  }
 },
 "nbformat": 4,
 "nbformat_minor": 5
}
